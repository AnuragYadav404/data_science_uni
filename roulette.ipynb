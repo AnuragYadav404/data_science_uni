{
 "cells": [
  {
   "cell_type": "code",
   "execution_count": 27,
   "metadata": {},
   "outputs": [
    {
     "name": "stdout",
     "output_type": "stream",
     "text": [
      "Total value won by player:  -289\n",
      "Total value won by house:  197\n",
      "Total balance of player:  -189\n"
     ]
    }
   ],
   "source": [
    "\"\"\" \n",
    "The house always wins:\n",
    "    The house has edge over the winning possibilities\n",
    "\n",
    "    \n",
    "    Run simulations ->\n",
    "    Entities:\n",
    "        Player funds\n",
    "        Player bets\n",
    "        House funds\n",
    "        House bets\n",
    "        End results\n",
    "\n",
    "\n",
    "        expected_value = p(winning)xpayout  +  p(losing)xloss \n",
    "\"\"\"\n",
    "\n",
    "import random\n",
    "\n",
    "\n",
    "def roulette_play(player_bet_amount,player_funds, rounds):\n",
    "\n",
    "    total_value_won = 0\n",
    "    house_value = 0\n",
    "    for round in range(rounds):\n",
    "        player_funds-=player_bet_amount\n",
    "        total_value_won-=player_bet_amount\n",
    "        player_bet_number = 1\n",
    "        roulette_output = random.randint(0,36)\n",
    "        if(player_bet_number == roulette_output):\n",
    "            total_value_won+= (player_bet_amount + (35*player_bet_amount))\n",
    "            player_funds+= (player_bet_amount + (35*player_bet_amount))\n",
    "        else:\n",
    "            total_value_won-= (player_bet_amount)\n",
    "            house_value+=player_bet_amount\n",
    "            player_funds-=player_bet_amount\n",
    "\n",
    "\n",
    "    print(\"Total value won by player: \", total_value_won)\n",
    "    print(\"Total value won by house: \", house_value)\n",
    "    print(\"Total balance of player: \", player_funds)\n",
    "\n",
    "    # print(\"Total value won by player: \", total_value_won)\n",
    "\n",
    "\n",
    "\n",
    "\n",
    "\n",
    "\n",
    "roulette_play(1, 100, 200)\n",
    "\n"
   ]
  },
  {
   "cell_type": "code",
   "execution_count": null,
   "metadata": {},
   "outputs": [],
   "source": []
  },
  {
   "cell_type": "code",
   "execution_count": null,
   "metadata": {},
   "outputs": [],
   "source": []
  },
  {
   "cell_type": "code",
   "execution_count": null,
   "metadata": {},
   "outputs": [],
   "source": []
  }
 ],
 "metadata": {
  "kernelspec": {
   "display_name": "env_first",
   "language": "python",
   "name": "python3"
  },
  "language_info": {
   "codemirror_mode": {
    "name": "ipython",
    "version": 3
   },
   "file_extension": ".py",
   "mimetype": "text/x-python",
   "name": "python",
   "nbconvert_exporter": "python",
   "pygments_lexer": "ipython3",
   "version": "3.9.21"
  }
 },
 "nbformat": 4,
 "nbformat_minor": 2
}
