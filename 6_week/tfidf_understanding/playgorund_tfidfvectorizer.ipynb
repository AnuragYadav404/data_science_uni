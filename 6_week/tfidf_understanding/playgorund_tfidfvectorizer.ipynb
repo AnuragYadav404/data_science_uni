{
 "cells": [
  {
   "cell_type": "code",
   "execution_count": 69,
   "metadata": {},
   "outputs": [],
   "source": [
    "from sklearn.feature_extraction.text import TfidfVectorizer\n",
    "import glob\n",
    "from pathlib import Path\n",
    "import pandas as pd\n"
   ]
  },
  {
   "cell_type": "code",
   "execution_count": 70,
   "metadata": {},
   "outputs": [
    {
     "name": "stdout",
     "output_type": "stream",
     "text": [
      "['./story.txt', './thirdStory.txt', './otherStory.txt']\n",
      "['story', 'thirdStory', 'otherStory']\n"
     ]
    }
   ],
   "source": [
    "directory_path = \"./\"\n",
    "text_files = glob.glob(f\"{directory_path}/*.txt\")\n",
    "print(text_files)\n",
    "text_titles = [Path(text).stem for text in text_files]\n",
    "print(text_titles)"
   ]
  },
  {
   "cell_type": "code",
   "execution_count": 71,
   "metadata": {},
   "outputs": [
    {
     "name": "stdout",
     "output_type": "stream",
     "text": [
      "['story', 'thirdStory', 'otherStory']\n",
      "vectorizer is:  TfidfVectorizer(input='filename', stop_words='english')\n",
      "vector is:  (3, 13)\n",
      "vector:    (np.int32(0), np.int32(2))\t0.25537359879528915\n",
      "  (np.int32(0), np.int32(11))\t0.43238508878969045\n",
      "  (np.int32(0), np.int32(7))\t0.43238508878969045\n",
      "  (np.int32(0), np.int32(8))\t0.43238508878969045\n",
      "  (np.int32(0), np.int32(9))\t0.43238508878969045\n",
      "  (np.int32(0), np.int32(1))\t0.43238508878969045\n",
      "  (np.int32(1), np.int32(2))\t0.3853716274664007\n",
      "  (np.int32(1), np.int32(6))\t0.652490884512534\n",
      "  (np.int32(1), np.int32(5))\t0.652490884512534\n",
      "  (np.int32(2), np.int32(2))\t0.25537359879528915\n",
      "  (np.int32(2), np.int32(4))\t0.43238508878969045\n",
      "  (np.int32(2), np.int32(3))\t0.43238508878969045\n",
      "  (np.int32(2), np.int32(0))\t0.43238508878969045\n",
      "  (np.int32(2), np.int32(10))\t0.43238508878969045\n",
      "  (np.int32(2), np.int32(12))\t0.43238508878969045\n"
     ]
    }
   ],
   "source": [
    "# example file: A quick brown fox jumps over the lazy dog.\n",
    "# What is tf-idf?\n",
    "\n",
    "# tf -> \n",
    "print(text_titles)\n",
    "# what does this do? What is this vectorizer object being created has?\n",
    "tfidf_vectorizer = TfidfVectorizer(input='filename', stop_words=\"english\")\n",
    "print(\"vectorizer is: \", tfidf_vectorizer)\n",
    "\n",
    "# What does this tfidf_vector contain? Signify?\n",
    "# Does this change the vectorizer as well?\n",
    "tfidf_vector = tfidf_vectorizer.fit_transform(text_files)\n",
    "print(\"vector is: \", (tfidf_vector.shape))\n",
    "print(\"vector: \", tfidf_vector)"
   ]
  },
  {
   "cell_type": "code",
   "execution_count": null,
   "metadata": {},
   "outputs": [
    {
     "name": "stdout",
     "output_type": "stream",
     "text": [
      "[1.69314718 1.69314718 1.         1.69314718 1.69314718 1.69314718\n",
      " 1.69314718 1.69314718 1.69314718 1.69314718 1.69314718 1.69314718\n",
      " 1.69314718]\n",
      "['ai' 'america' 'document' 'learning' 'machine' 'plants' 'pollination'\n",
      " 'rally' 'speech' 'transform' 'transforming' 'trumps' 'world']\n",
      "(4, 13)\n"
     ]
    }
   ],
   "source": [
    "# A quick brown fox jumps over the lazy dog.\n",
    "len(tfidf_vector.toarray()[0])\n",
    "# total 20 words were recognised\n",
    "\n",
    "words = tfidf_vectorizer.get_feature_names_out()\n",
    "print(tfidf_vectorizer.idf_)\n",
    "print(words)\n"
   ]
  },
  {
   "cell_type": "code",
   "execution_count": 83,
   "metadata": {},
   "outputs": [
    {
     "data": {
      "text/html": [
       "<div>\n",
       "<style scoped>\n",
       "    .dataframe tbody tr th:only-of-type {\n",
       "        vertical-align: middle;\n",
       "    }\n",
       "\n",
       "    .dataframe tbody tr th {\n",
       "        vertical-align: top;\n",
       "    }\n",
       "\n",
       "    .dataframe thead th {\n",
       "        text-align: right;\n",
       "    }\n",
       "</style>\n",
       "<table border=\"1\" class=\"dataframe\">\n",
       "  <thead>\n",
       "    <tr style=\"text-align: right;\">\n",
       "      <th></th>\n",
       "      <th>ai</th>\n",
       "      <th>america</th>\n",
       "      <th>document</th>\n",
       "      <th>learning</th>\n",
       "      <th>machine</th>\n",
       "      <th>plants</th>\n",
       "      <th>pollination</th>\n",
       "      <th>rally</th>\n",
       "      <th>speech</th>\n",
       "      <th>transform</th>\n",
       "      <th>transforming</th>\n",
       "      <th>trumps</th>\n",
       "      <th>world</th>\n",
       "    </tr>\n",
       "  </thead>\n",
       "  <tbody>\n",
       "    <tr>\n",
       "      <th>story</th>\n",
       "      <td>0.000000</td>\n",
       "      <td>0.432385</td>\n",
       "      <td>0.255374</td>\n",
       "      <td>0.000000</td>\n",
       "      <td>0.000000</td>\n",
       "      <td>0.000000</td>\n",
       "      <td>0.000000</td>\n",
       "      <td>0.432385</td>\n",
       "      <td>0.432385</td>\n",
       "      <td>0.432385</td>\n",
       "      <td>0.000000</td>\n",
       "      <td>0.432385</td>\n",
       "      <td>0.000000</td>\n",
       "    </tr>\n",
       "    <tr>\n",
       "      <th>thirdStory</th>\n",
       "      <td>0.000000</td>\n",
       "      <td>0.000000</td>\n",
       "      <td>0.385372</td>\n",
       "      <td>0.000000</td>\n",
       "      <td>0.000000</td>\n",
       "      <td>0.652491</td>\n",
       "      <td>0.652491</td>\n",
       "      <td>0.000000</td>\n",
       "      <td>0.000000</td>\n",
       "      <td>0.000000</td>\n",
       "      <td>0.000000</td>\n",
       "      <td>0.000000</td>\n",
       "      <td>0.000000</td>\n",
       "    </tr>\n",
       "    <tr>\n",
       "      <th>otherStory</th>\n",
       "      <td>0.432385</td>\n",
       "      <td>0.000000</td>\n",
       "      <td>0.255374</td>\n",
       "      <td>0.432385</td>\n",
       "      <td>0.432385</td>\n",
       "      <td>0.000000</td>\n",
       "      <td>0.000000</td>\n",
       "      <td>0.000000</td>\n",
       "      <td>0.000000</td>\n",
       "      <td>0.000000</td>\n",
       "      <td>0.432385</td>\n",
       "      <td>0.000000</td>\n",
       "      <td>0.432385</td>\n",
       "    </tr>\n",
       "  </tbody>\n",
       "</table>\n",
       "</div>"
      ],
      "text/plain": [
       "                  ai   america  document  learning   machine    plants  \\\n",
       "story       0.000000  0.432385  0.255374  0.000000  0.000000  0.000000   \n",
       "thirdStory  0.000000  0.000000  0.385372  0.000000  0.000000  0.652491   \n",
       "otherStory  0.432385  0.000000  0.255374  0.432385  0.432385  0.000000   \n",
       "\n",
       "            pollination     rally    speech  transform  transforming  \\\n",
       "story          0.000000  0.432385  0.432385   0.432385      0.000000   \n",
       "thirdStory     0.652491  0.000000  0.000000   0.000000      0.000000   \n",
       "otherStory     0.000000  0.000000  0.000000   0.000000      0.432385   \n",
       "\n",
       "              trumps     world  \n",
       "story       0.432385  0.000000  \n",
       "thirdStory  0.000000  0.000000  \n",
       "otherStory  0.000000  0.432385  "
      ]
     },
     "execution_count": 83,
     "metadata": {},
     "output_type": "execute_result"
    }
   ],
   "source": [
    "tfidf_df = pd.DataFrame(tfidf_vector.toarray(), index=text_titles, columns=tfidf_vectorizer.get_feature_names_out())\n",
    "tfidf_df"
   ]
  },
  {
   "cell_type": "code",
   "execution_count": 84,
   "metadata": {},
   "outputs": [
    {
     "data": {
      "text/plain": [
       "array(['ai', 'america', 'document', 'learning', 'machine', 'plants',\n",
       "       'pollination', 'rally', 'speech', 'transform', 'transforming',\n",
       "       'trumps', 'world'], dtype=object)"
      ]
     },
     "execution_count": 84,
     "metadata": {},
     "output_type": "execute_result"
    }
   ],
   "source": [
    "tfidf_vectorizer.get_feature_names_out()"
   ]
  },
  {
   "cell_type": "code",
   "execution_count": 85,
   "metadata": {},
   "outputs": [
    {
     "data": {
      "text/html": [
       "<div>\n",
       "<style scoped>\n",
       "    .dataframe tbody tr th:only-of-type {\n",
       "        vertical-align: middle;\n",
       "    }\n",
       "\n",
       "    .dataframe tbody tr th {\n",
       "        vertical-align: top;\n",
       "    }\n",
       "\n",
       "    .dataframe thead th {\n",
       "        text-align: right;\n",
       "    }\n",
       "</style>\n",
       "<table border=\"1\" class=\"dataframe\">\n",
       "  <thead>\n",
       "    <tr style=\"text-align: right;\">\n",
       "      <th></th>\n",
       "      <th>ai</th>\n",
       "      <th>america</th>\n",
       "      <th>document</th>\n",
       "      <th>learning</th>\n",
       "      <th>machine</th>\n",
       "      <th>plants</th>\n",
       "      <th>pollination</th>\n",
       "      <th>rally</th>\n",
       "      <th>speech</th>\n",
       "      <th>transform</th>\n",
       "      <th>transforming</th>\n",
       "      <th>trumps</th>\n",
       "      <th>world</th>\n",
       "    </tr>\n",
       "  </thead>\n",
       "  <tbody>\n",
       "    <tr>\n",
       "      <th>0</th>\n",
       "      <td>0.000000</td>\n",
       "      <td>0.432385</td>\n",
       "      <td>0.255374</td>\n",
       "      <td>0.000000</td>\n",
       "      <td>0.000000</td>\n",
       "      <td>0.000000</td>\n",
       "      <td>0.000000</td>\n",
       "      <td>0.432385</td>\n",
       "      <td>0.432385</td>\n",
       "      <td>0.432385</td>\n",
       "      <td>0.000000</td>\n",
       "      <td>0.432385</td>\n",
       "      <td>0.000000</td>\n",
       "    </tr>\n",
       "    <tr>\n",
       "      <th>1</th>\n",
       "      <td>0.000000</td>\n",
       "      <td>0.000000</td>\n",
       "      <td>0.385372</td>\n",
       "      <td>0.000000</td>\n",
       "      <td>0.000000</td>\n",
       "      <td>0.652491</td>\n",
       "      <td>0.652491</td>\n",
       "      <td>0.000000</td>\n",
       "      <td>0.000000</td>\n",
       "      <td>0.000000</td>\n",
       "      <td>0.000000</td>\n",
       "      <td>0.000000</td>\n",
       "      <td>0.000000</td>\n",
       "    </tr>\n",
       "    <tr>\n",
       "      <th>2</th>\n",
       "      <td>0.432385</td>\n",
       "      <td>0.000000</td>\n",
       "      <td>0.255374</td>\n",
       "      <td>0.432385</td>\n",
       "      <td>0.432385</td>\n",
       "      <td>0.000000</td>\n",
       "      <td>0.000000</td>\n",
       "      <td>0.000000</td>\n",
       "      <td>0.000000</td>\n",
       "      <td>0.000000</td>\n",
       "      <td>0.432385</td>\n",
       "      <td>0.000000</td>\n",
       "      <td>0.432385</td>\n",
       "    </tr>\n",
       "  </tbody>\n",
       "</table>\n",
       "</div>"
      ],
      "text/plain": [
       "         ai   america  document  learning   machine    plants  pollination  \\\n",
       "0  0.000000  0.432385  0.255374  0.000000  0.000000  0.000000     0.000000   \n",
       "1  0.000000  0.000000  0.385372  0.000000  0.000000  0.652491     0.652491   \n",
       "2  0.432385  0.000000  0.255374  0.432385  0.432385  0.000000     0.000000   \n",
       "\n",
       "      rally    speech  transform  transforming    trumps     world  \n",
       "0  0.432385  0.432385   0.432385      0.000000  0.432385  0.000000  \n",
       "1  0.000000  0.000000   0.000000      0.000000  0.000000  0.000000  \n",
       "2  0.000000  0.000000   0.000000      0.432385  0.000000  0.432385  "
      ]
     },
     "execution_count": 85,
     "metadata": {},
     "output_type": "execute_result"
    }
   ],
   "source": [
    "pd.DataFrame(tfidf_vector.toarray(), columns=tfidf_vectorizer.get_feature_names_out())"
   ]
  },
  {
   "cell_type": "code",
   "execution_count": 86,
   "metadata": {},
   "outputs": [
    {
     "name": "stdout",
     "output_type": "stream",
     "text": [
      "[[0.         0.         0.50854232 0.         0.         0.\n",
      "  0.861037   0.         0.         0.         0.         0.\n",
      "  0.        ]]\n",
      "['ai' 'america' 'document' 'learning' 'machine' 'plants' 'pollination'\n",
      " 'rally' 'speech' 'transform' 'transforming' 'trumps' 'world']\n"
     ]
    }
   ],
   "source": [
    "query_path = \"./query/query.txt\"\n",
    "query_vector = tfidf_vectorizer.transform([query_path])\n",
    "\n",
    "query_df = pd.DataFrame(query_vector.toarray(), columns=tfidf_vectorizer.get_feature_names_out())\n",
    "print(query_vector.toarray())\n",
    "print(tfidf_vectorizer.get_feature_names_out())\n"
   ]
  },
  {
   "cell_type": "code",
   "execution_count": 87,
   "metadata": {},
   "outputs": [
    {
     "name": "stdout",
     "output_type": "stream",
     "text": [
      "    ai  america  document  learning  machine  plants  pollination  rally  \\\n",
      "0  0.0      0.0  0.508542       0.0      0.0     0.0     0.861037    0.0   \n",
      "\n",
      "   speech  transform  transforming  trumps  world  \n",
      "0     0.0        0.0           0.0     0.0    0.0  \n",
      "['./story.txt', './thirdStory.txt', './otherStory.txt']\n"
     ]
    }
   ],
   "source": [
    "print(query_df)\n",
    "print(text_files)"
   ]
  },
  {
   "cell_type": "code",
   "execution_count": 88,
   "metadata": {},
   "outputs": [
    {
     "name": "stdout",
     "output_type": "stream",
     "text": [
      "./thirdStory.txt\n"
     ]
    }
   ],
   "source": [
    "from sklearn.metrics.pairwise import cosine_similarity\n",
    "cosine_similarities = cosine_similarity(query_df, tfidf_df)\n",
    "print(text_files[cosine_similarities.argmax()])"
   ]
  },
  {
   "cell_type": "code",
   "execution_count": 89,
   "metadata": {},
   "outputs": [
    {
     "name": "stdout",
     "output_type": "stream",
     "text": [
      "[[0.12986828 0.75779657 0.12986828]]\n"
     ]
    }
   ],
   "source": [
    "print(cosine_similarities)"
   ]
  },
  {
   "cell_type": "code",
   "execution_count": 90,
   "metadata": {},
   "outputs": [
    {
     "name": "stdout",
     "output_type": "stream",
     "text": [
      "(3, 13)\n"
     ]
    }
   ],
   "source": [
    "print(tfidf_df.shape)"
   ]
  },
  {
   "cell_type": "code",
   "execution_count": null,
   "metadata": {},
   "outputs": [],
   "source": []
  }
 ],
 "metadata": {
  "kernelspec": {
   "display_name": "env_first",
   "language": "python",
   "name": "python3"
  },
  "language_info": {
   "codemirror_mode": {
    "name": "ipython",
    "version": 3
   },
   "file_extension": ".py",
   "mimetype": "text/x-python",
   "name": "python",
   "nbconvert_exporter": "python",
   "pygments_lexer": "ipython3",
   "version": "3.9.21"
  }
 },
 "nbformat": 4,
 "nbformat_minor": 2
}
