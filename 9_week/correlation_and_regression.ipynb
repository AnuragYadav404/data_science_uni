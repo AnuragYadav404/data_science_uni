{
 "cells": [
  {
   "cell_type": "code",
   "execution_count": 3,
   "metadata": {},
   "outputs": [
    {
     "data": {
      "text/plain": [
       "'\\nCorrelation and regression\\n\\nYou are given the data above.  \\n\\nx(age): 30, 40, 40, 20, 12, 31, 10\\ny(body size): 160, 160, 170, 50, 110, 160, 100\\n\\nUsing Python, perform the following:\\n\\nCalculate Pearson correlation\\nDraw the regression line\\nCalculate optimal values of the weights b0 and b1\\nCalculate coefficient of determination. \\n    -> calculate RSS\\n        -> Calculate R2 = 1 - ((RSS)/TSS) \\nAdditionally, provide a new linear regression equation. \\n\\nDo not use any additional libraries, except pandas. \\n'"
      ]
     },
     "execution_count": 3,
     "metadata": {},
     "output_type": "execute_result"
    }
   ],
   "source": [
    "\"\"\"\n",
    "Correlation and regression\n",
    "\n",
    "You are given the data above.  \n",
    "\n",
    "x(age): 30, 40, 40, 20, 12, 31, 10\n",
    "y(body size): 160, 160, 170, 50, 110, 160, 100\n",
    "\n",
    "Using Python, perform the following:\n",
    "\n",
    "Calculate Pearson correlation\n",
    "Draw the regression line\n",
    "Calculate optimal values of the weights b0 and b1\n",
    "Calculate coefficient of determination. \n",
    "    -> calculate RSS\n",
    "        -> Calculate R2 = 1 - ((RSS)/TSS) \n",
    "Additionally, provide a new linear regression equation. \n",
    "\n",
    "Do not use any additional libraries, except pandas. \n",
    "\"\"\""
   ]
  },
  {
   "cell_type": "code",
   "execution_count": 4,
   "metadata": {},
   "outputs": [],
   "source": [
    "import pandas as pd\n",
    "age = [30, 40, 40, 20, 12, 31, 10]\n",
    "body_size = [160, 160, 170, 50, 110, 160, 100]\n",
    "\n",
    "df = pd.DataFrame({\"age\": age, \"body size\": body_size})"
   ]
  },
  {
   "cell_type": "code",
   "execution_count": 5,
   "metadata": {},
   "outputs": [],
   "source": [
    "# pearson_corr_coeff = cov(x, y)/(sigma(x)*sigma(y)) \n",
    "# cov (x, y) = sum((x-mean(x))*(y-mean(y)))\n",
    "# sigma(x) = sqrt(sum((x-mean(x)**2)))*sqrt(sum((y-mean(y)**2)))"
   ]
  },
  {
   "cell_type": "code",
   "execution_count": 6,
   "metadata": {},
   "outputs": [
    {
     "data": {
      "text/plain": [
       "np.float64(0.749053078925714)"
      ]
     },
     "execution_count": 6,
     "metadata": {},
     "output_type": "execute_result"
    }
   ],
   "source": [
    "df[\"age\"].corr(df[\"body size\"], method=\"pearson\")"
   ]
  },
  {
   "cell_type": "code",
   "execution_count": 7,
   "metadata": {},
   "outputs": [],
   "source": [
    "# score of 0.74 was observed -> positive correlation"
   ]
  },
  {
   "cell_type": "code",
   "execution_count": 8,
   "metadata": {},
   "outputs": [],
   "source": [
    "# Draw the regression line"
   ]
  },
  {
   "cell_type": "code",
   "execution_count": 9,
   "metadata": {},
   "outputs": [
    {
     "name": "stdout",
     "output_type": "stream",
     "text": [
      "2.7040024821594786\n",
      "Regression Equation: y = 59.31 + 2.70x\n",
      "Coefficient of Determination (R^2): 0.5611\n"
     ]
    }
   ],
   "source": [
    "x = df[\"age\"]\n",
    "y = df[\"body size\"]\n",
    "\n",
    "# b1 is cov(x, y)/var(x)\n",
    "# b2 is y - b1*x_mean\n",
    "\n",
    "b1 = ( (x - x.mean()) * (y - y.mean()) ).sum() / ((x - x.mean())**2).sum()\n",
    "print(b1)\n",
    "b0 = y.mean() - b1 * x.mean()\n",
    "\n",
    "# Predicting values\n",
    "y_pred = b0 + b1 * x\n",
    "\n",
    "# Calculating R-squared (coefficient of determination)\n",
    "# r-squared = 1 - ((residual(y, y_pred)/(residual(y, y_mean)))\n",
    "# residual(x, y) = sum((x-y)**2)\n",
    "ss_total = ((y - y.mean())**2).sum()\n",
    "ss_residual = ((y - y_pred)**2).sum()\n",
    "r_squared = 1 - (ss_residual / ss_total)\n",
    "\n",
    "# New linear regression equation\n",
    "equation = f\"y = {b0:.2f} + {b1:.2f}x\"\n",
    "\n",
    "# print(f\"Pearson Correlation: {correlation:.4f}\")\n",
    "print(f\"Regression Equation: {equation}\")\n",
    "print(f\"Coefficient of Determination (R^2): {r_squared:.4f}\")\n"
   ]
  },
  {
   "cell_type": "code",
   "execution_count": 10,
   "metadata": {},
   "outputs": [
    {
     "name": "stdout",
     "output_type": "stream",
     "text": [
      "415.0\n",
      "2.704002482159479\n",
      "59.30964939497362\n"
     ]
    }
   ],
   "source": [
    "cov_x_y = df[\"age\"].cov(df[\"body size\"])\n",
    "print(cov_x_y)\n",
    "var_x = df[\"age\"].var()\n",
    "\n",
    "b1 = (cov_x_y/var_x)\n",
    "print(cov_x_y/var_x)\n",
    "\n",
    "b0 = df[\"body size\"].mean() - (b1*df[\"age\"].mean())\n",
    "\n",
    "print(b0)\n",
    "\n",
    "df[\"predicted body size\"] = b0 + b1*df[\"age\"]\n",
    "\n",
    "\n",
    "\n",
    "\n",
    "# y = b0 + b1*x\n",
    "\n",
    "# b0 = y-b1*x_mean\n",
    "\n"
   ]
  },
  {
   "cell_type": "code",
   "execution_count": 11,
   "metadata": {},
   "outputs": [
    {
     "data": {
      "text/html": [
       "<div>\n",
       "<style scoped>\n",
       "    .dataframe tbody tr th:only-of-type {\n",
       "        vertical-align: middle;\n",
       "    }\n",
       "\n",
       "    .dataframe tbody tr th {\n",
       "        vertical-align: top;\n",
       "    }\n",
       "\n",
       "    .dataframe thead th {\n",
       "        text-align: right;\n",
       "    }\n",
       "</style>\n",
       "<table border=\"1\" class=\"dataframe\">\n",
       "  <thead>\n",
       "    <tr style=\"text-align: right;\">\n",
       "      <th></th>\n",
       "      <th>age</th>\n",
       "      <th>body size</th>\n",
       "      <th>predicted body size</th>\n",
       "    </tr>\n",
       "  </thead>\n",
       "  <tbody>\n",
       "    <tr>\n",
       "      <th>0</th>\n",
       "      <td>30</td>\n",
       "      <td>160</td>\n",
       "      <td>140.429724</td>\n",
       "    </tr>\n",
       "    <tr>\n",
       "      <th>1</th>\n",
       "      <td>40</td>\n",
       "      <td>160</td>\n",
       "      <td>167.469749</td>\n",
       "    </tr>\n",
       "    <tr>\n",
       "      <th>2</th>\n",
       "      <td>40</td>\n",
       "      <td>170</td>\n",
       "      <td>167.469749</td>\n",
       "    </tr>\n",
       "    <tr>\n",
       "      <th>3</th>\n",
       "      <td>20</td>\n",
       "      <td>50</td>\n",
       "      <td>113.389699</td>\n",
       "    </tr>\n",
       "    <tr>\n",
       "      <th>4</th>\n",
       "      <td>12</td>\n",
       "      <td>110</td>\n",
       "      <td>91.757679</td>\n",
       "    </tr>\n",
       "    <tr>\n",
       "      <th>5</th>\n",
       "      <td>31</td>\n",
       "      <td>160</td>\n",
       "      <td>143.133726</td>\n",
       "    </tr>\n",
       "    <tr>\n",
       "      <th>6</th>\n",
       "      <td>10</td>\n",
       "      <td>100</td>\n",
       "      <td>86.349674</td>\n",
       "    </tr>\n",
       "  </tbody>\n",
       "</table>\n",
       "</div>"
      ],
      "text/plain": [
       "   age  body size  predicted body size\n",
       "0   30        160           140.429724\n",
       "1   40        160           167.469749\n",
       "2   40        170           167.469749\n",
       "3   20         50           113.389699\n",
       "4   12        110            91.757679\n",
       "5   31        160           143.133726\n",
       "6   10        100            86.349674"
      ]
     },
     "execution_count": 11,
     "metadata": {},
     "output_type": "execute_result"
    }
   ],
   "source": [
    "df"
   ]
  },
  {
   "cell_type": "code",
   "execution_count": null,
   "metadata": {},
   "outputs": [
    {
     "name": "stdout",
     "output_type": "stream",
     "text": [
      "0.5610805150480918\n"
     ]
    }
   ],
   "source": [
    "# coefficient of determination\n",
    "\n",
    "RSS = sum((df[\"body size\"]-df[\"predicted body size\"])**2)\n",
    "TSS = sum((df[\"body size\"]-df[\"body size\"].mean())**2)\n",
    "r2 = 1 - (RSS/TSS)\n",
    "print(r2)\n",
    "\n",
    "\n",
    "# If R² is 0.56, it means that 56% of the variance in the dependent variable is explained by the model, and the remaining 44% is unexplained or due to other factors not captured by the model."
   ]
  },
  {
   "cell_type": "code",
   "execution_count": 55,
   "metadata": {},
   "outputs": [
    {
     "data": {
      "image/png": "[encoded data removed]",
      "text/plain": [
       "<Figure size 640x480 with 1 Axes>"
      ]
     },
     "metadata": {},
     "output_type": "display_data"
    }
   ],
   "source": [
    "import matplotlib.pyplot as plt\n",
    "\n",
    "plt.scatter(df['age'], df['body size'], color='blue', label='Actual Data')\n",
    "\n",
    "# Plot the regression line\n",
    "plt.plot(df[\"age\"], df[\"predicted body size\"], color='red', linestyle='-', label='Regression Line')\n",
    "\n",
    "# Labels and title\n",
    "plt.xlabel(\"Age (x)\")\n",
    "plt.ylabel(\"Body Size (y)\")\n",
    "plt.title(\"Linear Regression: Age vs Body Size\")\n",
    "plt.legend()\n",
    "plt.grid(True)\n",
    "\n",
    "# Show the plot\n",
    "plt.show()"
   ]
  },
  {
   "cell_type": "code",
   "execution_count": null,
   "metadata": {},
   "outputs": [],
   "source": [
    "\"\"\" \n",
    "We square the differences in RSS (Residual Sum of Squares) and TSS (Total Sum of Squares) for several important reasons:\n",
    "\n",
    "1. Avoiding Negative Differences (Cancellation of Errors):\n",
    "If we simply use the difference between the actual value and the predicted value (or the mean value for TSS), some differences would be positive and others negative. If we sum them directly, they could cancel each other out, leading to a misleading result. For example:\n",
    "\n",
    "If the predicted value is slightly above the actual value in some cases and slightly below in others, the sum of the differences might be close to zero, even if the model isn't performing well.\n",
    "Squaring the differences ensures that both overestimates and underestimates contribute positively to the total error, making sure they don’t cancel each other out.\n",
    "2. Emphasizing Larger Errors:\n",
    "Squaring the differences has the effect of giving more weight to larger errors. The larger the residual (the difference between the actual and predicted value), the more it impacts the total error. This is important because:\n",
    "\n",
    "Large errors are typically more undesirable and squaring them penalizes the model more for making large mistakes.\n",
    "Without squaring, all errors would be treated equally regardless of size, which wouldn’t reflect the actual performance of the model accurately.\n",
    "For example, if you had an error of 10 in one instance and an error of 1 in another, the square of 10 is 100, while the square of 1 is just 1. This shows that the larger error should have a disproportionate effect on the final sum.\n",
    "\n",
    "3. Mathematical Convenience and Relationship with Variance:\n",
    "Squaring the differences aligns with the concept of variance, which is also the average of squared deviations from the mean. In statistical analysis, variance is a key measure of how spread out the data is, and squaring the differences allows RSS and TSS to be directly related to the variance.\n",
    "\n",
    "In the case of TSS, we are measuring how spread out the data is around the mean.\n",
    "In RSS, we are measuring how far off the predictions are from the true values.\n",
    "By squaring, we're aligning the error measurements with the underlying statistical properties of variance and standard deviation.\n",
    "\n",
    "4. Differentiability and Optimization:\n",
    "Squaring the differences also makes the function differentiable and easier to optimize, particularly when fitting models like linear regression. When fitting a model, we typically use gradient-based methods to minimize the error. Squaring the differences ensures that the error function is smooth and continuously differentiable, making it easier to apply optimization algorithms like gradient descent.\n",
    "\"\"\""
   ]
  }
 ],
 "metadata": {
  "kernelspec": {
   "display_name": "env_first",
   "language": "python",
   "name": "python3"
  },
  "language_info": {
   "codemirror_mode": {
    "name": "ipython",
    "version": 3
   },
   "file_extension": ".py",
   "mimetype": "text/x-python",
   "name": "python",
   "nbconvert_exporter": "python",
   "pygments_lexer": "ipython3",
   "version": "3.9.21"
  }
 },
 "nbformat": 4,
 "nbformat_minor": 2
}
