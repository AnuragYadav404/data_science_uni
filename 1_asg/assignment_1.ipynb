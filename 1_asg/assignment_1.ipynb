{
 "cells": [
  {
   "cell_type": "code",
   "execution_count": null,
   "metadata": {},
   "outputs": [
    {
     "ename": "SyntaxError",
     "evalue": "invalid syntax (1206817592.py, line 3)",
     "output_type": "error",
     "traceback": [
      "\u001b[0;36m  Cell \u001b[0;32mIn[3], line 3\u001b[0;36m\u001b[0m\n\u001b[0;31m    You are given the following numbers: 1.5, 2.8, 0.2, 3.1 Create an array to store those values.\u001b[0m\n\u001b[0m        ^\u001b[0m\n\u001b[0;31mSyntaxError\u001b[0m\u001b[0;31m:\u001b[0m invalid syntax\n"
     ]
    }
   ],
   "source": [
    "\"\"\"\n",
    "Arrays\n",
    "\n",
    "You are given the following numbers: 1.5, 2.8, 0.2, 3.1 Create an array to store those values.\n",
    "\n",
    "Output the second element of the array.\n",
    "Output the elements 2 and 3 of the array.\n",
    "Replace the value of the first element.\n",
    "Select all elements where the value is greater than 2.\n",
    "Square each value of x and assign it to a new variable called x.squared().\n",
    "Append the value 5.2 to x.\n",
    "Compute the mean value of the updated vector x and check its length. \n",
    "\"\"\""
   ]
  },
  {
   "cell_type": "code",
   "execution_count": 12,
   "metadata": {},
   "outputs": [
    {
     "name": "stdout",
     "output_type": "stream",
     "text": [
      "2.8\n",
      "2.8\n",
      "0.2\n",
      "[3.1]\n",
      "[3.1]\n",
      "[2.25, 1, 0.04000000000000001, 9.610000000000001]\n",
      "[2.25, 1, 0.04000000000000001, 9.610000000000001]\n",
      "mean is :  1.8\n"
     ]
    }
   ],
   "source": [
    "num = [1.5, 2.8, 0.2, 3.1]\n",
    "print(num[1])\n",
    "print(num[1])\n",
    "print(num[2])\n",
    "num[1] = -1\n",
    "greater_than_two = filter(lambda x: x>2, num)\n",
    "gr2 = [x for x in num if(lambda a: a>2)(x)]\n",
    "print(gr2)\n",
    "print(list(greater_than_two))\n",
    "# filter (filter_func, arguments)\n",
    "# expressing lambda in if statements\n",
    "\n",
    "# using map\n",
    "x_squared = map(lambda x: x**2, num)\n",
    "print(list(x_squared))\n",
    "x2 = [(lambda a: a**2)(x) for x in num]\n",
    "print(x2) \n",
    "\n",
    "num.append(5.2)\n",
    "\n",
    "# computing mean value -> using libraries?\n",
    "# mean -> sum/len\n",
    "print(\"mean is : \", sum(num)/len(num))"
   ]
  },
  {
   "cell_type": "code",
   "execution_count": 22,
   "metadata": {},
   "outputs": [
    {
     "name": "stdout",
     "output_type": "stream",
     "text": [
      "Error element found at:  3\n",
      "[<class 'int'>, <class 'int'>, <class 'int'>, <class 'str'>, <class 'int'>]\n",
      "[5, 7, 8, 0, 5, 3, 5]\n"
     ]
    }
   ],
   "source": [
    "\"\"\"\n",
    "Lists \n",
    "Create a list that contains the results of 5 submitted assignments of the student. The results are following - 5,7,8,Error,5\n",
    "\n",
    "Print \"Error\" from the list\n",
    "\n",
    "Show type for each element of the list\n",
    "\n",
    "Add to this list 2 more marks: 3, 5\n",
    "\n",
    "Replace \"Error\" with 0\n",
    "\"\"\"\n",
    "\n",
    "results = [5,7,8,\"Error\", 5]\n",
    "for i in range(len(results)):\n",
    "    if(results[i]==\"Error\"):\n",
    "        print(\"Error element found at: \", i)\n",
    "\n",
    "ele_type = [(lambda a: type(a))(x) for x in results]\n",
    "print(ele_type)\n",
    "\n",
    "results.append(3)\n",
    "results.append(5)\n",
    "\n",
    "for i in range(len(results)):\n",
    "    if(results[i]==\"Error\"):\n",
    "        results[i] = 0\n",
    "\n",
    "\n",
    "\n",
    "print(results)"
   ]
  },
  {
   "cell_type": "code",
   "execution_count": 23,
   "metadata": {},
   "outputs": [
    {
     "name": "stdout",
     "output_type": "stream",
     "text": [
      "Key:  USA  Val:  113\n",
      "Key:  China  Val:  100\n"
     ]
    }
   ],
   "source": [
    "\"\"\"\n",
    "Dictionary\n",
    "Initialize an empty dictionary\n",
    " Save in a dictionary the number of Olympics medals: USA - 112, Germany - 36, China - 100 \n",
    "Add to dictionary Italy - 40\n",
    "Remove Germany from the list \n",
    "Replace value for the USA to 113\n",
    "Show values and keys of the dictionary  \n",
    "\n",
    "\"\"\"\n",
    "\n",
    "dict = {}\n",
    "\n",
    "dict[\"USA\"] = 112\n",
    "dict[\"Germany\"] = 36\n",
    "dict[\"China\"] = 100\n",
    "\n",
    "dict.pop(\"Germany\")\n",
    "\n",
    "dict[\"USA\"] = 113\n",
    "\n",
    "for idx, key in enumerate(dict):\n",
    "    print(\"Key: \", key, \" Val: \", dict[key])"
   ]
  },
  {
   "cell_type": "code",
   "execution_count": null,
   "metadata": {},
   "outputs": [
    {
     "name": "stdout",
     "output_type": "stream",
     "text": [
      "[2, 4, 3]\n",
      "[1, 5, 7]\n",
      "[[2, 4, 3], [1, 0, 7]]\n",
      "Sum of  [2, 4, 3]  row is:  9\n",
      "Sum of  [1, 0, 7]  row is:  8\n",
      "3\n"
     ]
    }
   ],
   "source": [
    "\"\"\" \n",
    "Matrices\n",
    "You are given a matrix:\n",
    " \n",
    " \n",
    "Save the matrix\n",
    "Print it in a form of matrix\n",
    "Access element with value 5, replace it with 0\n",
    "Sum the values in the first row.\n",
    "Sum the values in the first column.\n",
    "Specify names for rows (|Row1, Row2\") and columns (\"Col1”, “Col2\").\n",
    "\n",
    "\"\"\"\n",
    "\n",
    "mat = [[2, 4, 3], [1, 5, 7]]\n",
    "\n",
    "for row in mat:\n",
    "    print(row)\n",
    "\n",
    "\n",
    "for row in mat:\n",
    "    for idx in range(len(row)):\n",
    "        if(row[idx]==5):\n",
    "            row[idx]=0\n",
    "\n",
    "print(mat)\n",
    "\n",
    "for row in mat:\n",
    "    print(\"Sum of \",row,\" row is: \",sum(row))\n",
    "\n",
    "sum = 0\n",
    "for row in mat:\n",
    "    sum+=row[0]\n",
    "\n",
    "print(sum)\n",
    "\n"
   ]
  },
  {
   "cell_type": "code",
   "execution_count": null,
   "metadata": {},
   "outputs": [],
   "source": []
  }
 ],
 "metadata": {
  "kernelspec": {
   "display_name": "env_first",
   "language": "python",
   "name": "python3"
  },
  "language_info": {
   "codemirror_mode": {
    "name": "ipython",
    "version": 3
   },
   "file_extension": ".py",
   "mimetype": "text/x-python",
   "name": "python",
   "nbconvert_exporter": "python",
   "pygments_lexer": "ipython3",
   "version": "3.9.21"
  }
 },
 "nbformat": 4,
 "nbformat_minor": 2
}
