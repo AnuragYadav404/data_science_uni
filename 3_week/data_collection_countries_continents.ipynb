{
 "cells": [
  {
   "cell_type": "code",
   "execution_count": 2,
   "metadata": {},
   "outputs": [
    {
     "data": {
      "text/plain": [
       "\" \\n\\nCreating Data Frame\\n\\n1. Collect the name of all the countries per continent from English Wikipedia.\\n\\n2. Create countries-continents pandas dataframe. Dataframe should have two columns: country, continent.\\n\\n3. Collect the happiness score, GDP per capital, social support, healthy life expectancy, freedom to make life choices, generosity, and perceptions of corruption per country in 2019 from English Wikipedia and put all collected information in a dataframe.\\n\\n4. Create a new dataframe with all the information that you collected and save it in a CSV.\\n\\n \\n\\nLinks:\\n\\nhttps://en.wikipedia.org/wiki/World_Happiness_Report#2019_report\\nhttps://simple.wikipedia.org/wiki/List_of_countries_by_continents\\nRecommended libraries to use: \\n\\nBeautifuisoup - https://www.crummy.com/software/BeautifulSoup/bs4/doc/  #For HTM parsing \\nrequests   - https://pypi.org/project/requests/ #For downloading the HTML code for the Wikipedia page, we need to import the requests' library\\n\\n\\nAttention: you can get creative and use different libraries. \\nThere is not one particular solution. Be creative and try to find your way. Collaborate with your peers, if you feel like you can not do it alone. \\n\\nEven if you do just part of it - bring it with you to the tutorial, so that we can discuss and improve it together.  \\n\\n\\nDisclaimer: if no one does it - then we can not have a proper discussion.  So it is in your best interests to actually invest time in this task!\\n\\nGood luck! Looking forward to see your solutions! \\n\\n\""
      ]
     },
     "execution_count": 2,
     "metadata": {},
     "output_type": "execute_result"
    }
   ],
   "source": [
    "\"\"\" \n",
    "\n",
    "Creating Data Frame\n",
    "\n",
    "1. Collect the name of all the countries per continent from English Wikipedia.\n",
    "\n",
    "2. Create countries-continents pandas dataframe. Dataframe should have two columns: country, continent.\n",
    "\n",
    "3. Collect the happiness score, GDP per capital, social support, healthy life expectancy, freedom to make life choices, generosity, and perceptions of corruption per country in 2019 from English Wikipedia and put all collected information in a dataframe.\n",
    "\n",
    "4. Create a new dataframe with all the information that you collected and save it in a CSV.\n",
    "\n",
    " \n",
    "\n",
    "Links:\n",
    "\n",
    "https://en.wikipedia.org/wiki/World_Happiness_Report#2019_report\n",
    "https://simple.wikipedia.org/wiki/List_of_countries_by_continents\n",
    "Recommended libraries to use: \n",
    "\n",
    "Beautifuisoup - https://www.crummy.com/software/BeautifulSoup/bs4/doc/  #For HTM parsing \n",
    "requests   - https://pypi.org/project/requests/ #For downloading the HTML code for the Wikipedia page, we need to import the requests' library\n",
    "\n",
    "\n",
    "Attention: you can get creative and use different libraries. \n",
    "There is not one particular solution. Be creative and try to find your way. Collaborate with your peers, if you feel like you can not do it alone. \n",
    "\n",
    "Even if you do just part of it - bring it with you to the tutorial, so that we can discuss and improve it together.  \n",
    "\n",
    "\n",
    "Disclaimer: if no one does it - then we can not have a proper discussion.  So it is in your best interests to actually invest time in this task!\n",
    "\n",
    "Good luck! Looking forward to see your solutions! \n",
    "\n",
    "\"\"\""
   ]
  },
  {
   "cell_type": "code",
   "execution_count": 3,
   "metadata": {},
   "outputs": [
    {
     "data": {
      "text/plain": [
       "' \\nExample DataFrame: \\nCountry | Continent\\nIndia   | Asia\\nGermany | Europe\\nChina   | Asia\\n\\n\\nFlow:\\n    pypi -> request module for downloading the HTML code from wikipedia\\n    BeautifulSoup for parsing the downloaded HTML file\\n\\n'"
      ]
     },
     "execution_count": 3,
     "metadata": {},
     "output_type": "execute_result"
    }
   ],
   "source": [
    "\"\"\" \n",
    "Example DataFrame: \n",
    "Country | Continent\n",
    "India   | Asia\n",
    "Germany | Europe\n",
    "China   | Asia\n",
    "\n",
    "\n",
    "Flow:\n",
    "    pypi -> request module for downloading the HTML code from wikipedia\n",
    "    BeautifulSoup for parsing the downloaded HTML file\n",
    "\n",
    "\"\"\""
   ]
  },
  {
   "cell_type": "code",
   "execution_count": 4,
   "metadata": {},
   "outputs": [],
   "source": [
    "import requests\n",
    "\n",
    "r = requests.get(\"https://simple.wikipedia.org/wiki/List_of_countries_by_continents#Asia\")"
   ]
  },
  {
   "cell_type": "code",
   "execution_count": 5,
   "metadata": {},
   "outputs": [],
   "source": [
    "import requests\n",
    "\n",
    "url = \"https://simple.wikipedia.org/wiki/List_of_countries_by_continents#Asia\"  # Replace with the target website\n",
    "response = requests.get(url)\n",
    "\n",
    "# Check if the request was successful\n",
    "if response.status_code == 200:\n",
    "    html_content = response.text  # Get the raw HTML content\n",
    "    # print(html_content)\n",
    "else:\n",
    "    print(f\"Failed to retrieve data, Status Code: {response.status_code}\")\n"
   ]
  },
  {
   "cell_type": "code",
   "execution_count": 6,
   "metadata": {},
   "outputs": [],
   "source": [
    "from bs4 import BeautifulSoup"
   ]
  },
  {
   "cell_type": "code",
   "execution_count": 7,
   "metadata": {},
   "outputs": [],
   "source": [
    "soup = BeautifulSoup(html_content, \"html.parser\")\n",
    "data = []"
   ]
  },
  {
   "cell_type": "code",
   "execution_count": 8,
   "metadata": {},
   "outputs": [],
   "source": [
    "\"\"\"\n",
    "Structure for wikipedia:\n",
    "    <div class = \"mw-heading mw-heading2\">\n",
    "    Before each wikitable, there is a div \n",
    "    the div contains the continents name\n",
    "    table contains the countries \n",
    "    <table class = \"wikitable\">\n",
    "\"\"\"\n",
    "\n",
    "\n",
    "tables = soup.findAll(\"table\", class_=\"wikitable\")\n",
    "# print(tables)\n",
    "for table in tables:\n",
    "    continent_div = table.find_previous(\"div\", class_=\"mw-heading2\")\n",
    "    # continent div: <div class=\"mw-heading mw-heading2\"><h2 id=\"Africa\">Africa</h2></div>\n",
    "    # print(continent_div.text.strip())\n",
    "    continent_name = continent_div.text.strip()\n",
    "    for row in table.find_all(\"tr\")[1:]:\n",
    "        cols = row.find_all(\"td\")\n",
    "        if(cols):\n",
    "            country_td = cols[2].find(\"a\")\n",
    "            country_name = country_td.get(\"title\")\n",
    "            data.append([continent_name, country_name])"
   ]
  },
  {
   "cell_type": "code",
   "execution_count": 9,
   "metadata": {},
   "outputs": [],
   "source": [
    "import pandas as pd\n",
    "df = pd.DataFrame(data=data, columns=[\"Continent\", \"Country\"])"
   ]
  },
  {
   "cell_type": "code",
   "execution_count": 10,
   "metadata": {},
   "outputs": [
    {
     "name": "stdout",
     "output_type": "stream",
     "text": [
      "<class 'pandas.core.frame.DataFrame'>\n",
      "RangeIndex: 204 entries, 0 to 203\n",
      "Data columns (total 2 columns):\n",
      " #   Column     Non-Null Count  Dtype \n",
      "---  ------     --------------  ----- \n",
      " 0   Continent  204 non-null    object\n",
      " 1   Country    204 non-null    object\n",
      "dtypes: object(2)\n",
      "memory usage: 3.3+ KB\n"
     ]
    }
   ],
   "source": [
    "df.head(100)[80:]\n",
    "df.info()"
   ]
  },
  {
   "cell_type": "code",
   "execution_count": 11,
   "metadata": {},
   "outputs": [
    {
     "data": {
      "text/plain": [
       "' \\nCollect the \\nhappiness score, GDP per capital, social support, healthy life expectancy, \\nfreedom to make life choices, generosity, and perceptions of corruption \\nper country in 2019 from English Wikipedia and put all collected information in a dataframe.\\n\\n\\nhttps://en.wikipedia.org/wiki/World_Happiness_Report#2019_report\\n\\n\\nstructure:\\n    parent: div, class = mw-heading, mw-heading3\\n        h3: id: 2019_report\\n    sibling of parent: div\\n        child: table\\n\\n'"
      ]
     },
     "execution_count": 11,
     "metadata": {},
     "output_type": "execute_result"
    }
   ],
   "source": [
    "\"\"\" \n",
    "Collect the \n",
    "happiness score, GDP per capital, social support, healthy life expectancy, \n",
    "freedom to make life choices, generosity, and perceptions of corruption \n",
    "per country in 2019 from English Wikipedia and put all collected information in a dataframe.\n",
    "\n",
    "\n",
    "https://en.wikipedia.org/wiki/World_Happiness_Report#2019_report\n",
    "\n",
    "\n",
    "structure:\n",
    "    parent: div, class = mw-heading, mw-heading3\n",
    "        h3: id: 2019_report\n",
    "    sibling of parent: div\n",
    "        child: table\n",
    "\n",
    "\"\"\""
   ]
  },
  {
   "cell_type": "code",
   "execution_count": 12,
   "metadata": {},
   "outputs": [],
   "source": [
    "import requests\n",
    "\n",
    "url = \"https://en.wikipedia.org/wiki/World_Happiness_Report#2019_report\"  # Replace with the target website\n",
    "response = requests.get(url)\n",
    "\n",
    "# Check if the request was successful\n",
    "if response.status_code == 200:\n",
    "    html_content = response.text  # Get the raw HTML content\n",
    "    # print(html_content)\n",
    "else:\n",
    "    print(f\"Failed to retrieve data, Status Code: {response.status_code}\")"
   ]
  },
  {
   "cell_type": "code",
   "execution_count": 13,
   "metadata": {},
   "outputs": [],
   "source": [
    "countries_content_data = []\n",
    "# Wikipedia URL for World Happiness Report 2019\n",
    "url = \"https://en.wikipedia.org/wiki/World_Happiness_Report#2019_report\"\n",
    "\n",
    "# Fetch the webpage\n",
    "response = requests.get(url)\n",
    "soup = BeautifulSoup(response.text, \"html.parser\")\n",
    "\n",
    "# Step 1: Find the h3 tag with id=\"2019_report\"\n",
    "heading = soup.find(\"h3\", id=\"2019_report\")\n",
    "\n",
    "if heading:\n",
    "    # Step 2: Get its parent div containing the 2019 report section\n",
    "    parent_div = heading.find_parent(\"div\", class_=\"mw-heading mw-heading3\")\n",
    "    if parent_div:\n",
    "        # Step 3: Find the sibling div that contains the table\n",
    "        sibling_div = parent_div.find_next_sibling(\"div\")\n",
    "        if sibling_div:\n",
    "            # Step 4: Find the table within the sibling div\n",
    "            table = sibling_div.find(\"table\", class_=\"wikitable\")\n",
    "            # print(table)\n",
    "            # Print or process the table\n",
    "            # print(table)\n",
    "            tbody = table.find(\"tbody\")\n",
    "            # print(tbody)\n",
    "            # print(tbody)\n",
    "\n",
    "            \"\"\"\n",
    "            Collect the \n",
    "            happiness score, GDP per capital, social support, healthy life expectancy, \n",
    "            freedom to make life choices, generosity, and perceptions of corruption \n",
    "            \"\"\"\n",
    "           \n",
    "            rows = tbody.find_all(\"tr\")\n",
    "\n",
    "            column_headings = rows[0]\n",
    "            column_rows = column_headings.find_all(\"abbr\")\n",
    "            # print(column_headings)\n",
    "            df_columns = [\"Country\"]\n",
    "            for col in column_rows:\n",
    "                title = col.get(\"title\")\n",
    "                if \":\" in title:\n",
    "                    result = title.split(\":\", 1)[1].strip() \n",
    "                    df_columns.append(result)\n",
    "                else:\n",
    "                    df_columns.append(title)\n",
    "            \n",
    "\n",
    "            countries_content_data.append(df_columns)\n",
    "\n",
    "            for row in rows[1:]:\n",
    "                # print(row)\n",
    "                tds = row.find_all(\"td\")[1:]\n",
    "                \n",
    "                country_data = []\n",
    "                for td in tds:\n",
    "                    # print(td.text.strip())\n",
    "                    country_aref = td.find(\"a\")\n",
    "                    if(country_aref):\n",
    "                       \n",
    "                        country_data.append(country_aref.text.strip())\n",
    "                    else:\n",
    "                        country_data.append(td.text.strip())\n",
    "                        \n",
    "               \n",
    "                countries_content_data.append(country_data)\n",
    "           \n",
    "                \n",
    "\n",
    "            # print(column_headings)\n",
    "            # print(rows)\n",
    "        \n",
    "        else:\n",
    "            print(\"No sibling div found containing the table.\")\n",
    "    else:\n",
    "        print(\"Parent div containing the 2019 report section not found.\")\n",
    "else:\n",
    "    print(\"The 2019 report heading (h3) not found.\")"
   ]
  },
  {
   "cell_type": "code",
   "execution_count": 14,
   "metadata": {},
   "outputs": [],
   "source": [
    "content_df = pd.DataFrame(countries_content_data[1:], columns=countries_content_data[0][:])"
   ]
  },
  {
   "cell_type": "code",
   "execution_count": 15,
   "metadata": {},
   "outputs": [
    {
     "name": "stdout",
     "output_type": "stream",
     "text": [
      "<class 'pandas.core.frame.DataFrame'>\n",
      "RangeIndex: 156 entries, 0 to 155\n",
      "Data columns (total 8 columns):\n",
      " #   Column                        Non-Null Count  Dtype \n",
      "---  ------                        --------------  ----- \n",
      " 0   Country                       156 non-null    object\n",
      " 1   Happiness score               156 non-null    object\n",
      " 2   GDP                           156 non-null    object\n",
      " 3   Social support                156 non-null    object\n",
      " 4   Healthy life expectancy       156 non-null    object\n",
      " 5   Freedom to make life choices  156 non-null    object\n",
      " 6   Generosity                    156 non-null    object\n",
      " 7   Perceptions of corruption     156 non-null    object\n",
      "dtypes: object(8)\n",
      "memory usage: 9.9+ KB\n"
     ]
    }
   ],
   "source": [
    "content_df.info()"
   ]
  },
  {
   "cell_type": "code",
   "execution_count": 16,
   "metadata": {},
   "outputs": [
    {
     "name": "stdout",
     "output_type": "stream",
     "text": [
      "<class 'pandas.core.frame.DataFrame'>\n",
      "RangeIndex: 204 entries, 0 to 203\n",
      "Data columns (total 2 columns):\n",
      " #   Column     Non-Null Count  Dtype \n",
      "---  ------     --------------  ----- \n",
      " 0   Continent  204 non-null    object\n",
      " 1   Country    204 non-null    object\n",
      "dtypes: object(2)\n",
      "memory usage: 3.3+ KB\n"
     ]
    }
   ],
   "source": [
    "df.info()"
   ]
  },
  {
   "cell_type": "code",
   "execution_count": 17,
   "metadata": {},
   "outputs": [],
   "source": [
    "merged_df = pd.merge(content_df, df, on=\"Country\", how=\"outer\")"
   ]
  },
  {
   "cell_type": "code",
   "execution_count": 18,
   "metadata": {},
   "outputs": [
    {
     "name": "stdout",
     "output_type": "stream",
     "text": [
      "<class 'pandas.core.frame.DataFrame'>\n",
      "RangeIndex: 214 entries, 0 to 213\n",
      "Data columns (total 9 columns):\n",
      " #   Column                        Non-Null Count  Dtype \n",
      "---  ------                        --------------  ----- \n",
      " 0   Country                       214 non-null    object\n",
      " 1   Happiness score               156 non-null    object\n",
      " 2   GDP                           156 non-null    object\n",
      " 3   Social support                156 non-null    object\n",
      " 4   Healthy life expectancy       156 non-null    object\n",
      " 5   Freedom to make life choices  156 non-null    object\n",
      " 6   Generosity                    156 non-null    object\n",
      " 7   Perceptions of corruption     156 non-null    object\n",
      " 8   Continent                     204 non-null    object\n",
      "dtypes: object(9)\n",
      "memory usage: 15.2+ KB\n"
     ]
    }
   ],
   "source": [
    "merged_df.info()"
   ]
  },
  {
   "cell_type": "code",
   "execution_count": 19,
   "metadata": {},
   "outputs": [
    {
     "data": {
      "text/html": [
       "<div>\n",
       "<style scoped>\n",
       "    .dataframe tbody tr th:only-of-type {\n",
       "        vertical-align: middle;\n",
       "    }\n",
       "\n",
       "    .dataframe tbody tr th {\n",
       "        vertical-align: top;\n",
       "    }\n",
       "\n",
       "    .dataframe thead th {\n",
       "        text-align: right;\n",
       "    }\n",
       "</style>\n",
       "<table border=\"1\" class=\"dataframe\">\n",
       "  <thead>\n",
       "    <tr style=\"text-align: right;\">\n",
       "      <th></th>\n",
       "      <th>Country</th>\n",
       "      <th>Happiness score</th>\n",
       "      <th>GDP</th>\n",
       "      <th>Social support</th>\n",
       "      <th>Healthy life expectancy</th>\n",
       "      <th>Freedom to make life choices</th>\n",
       "      <th>Generosity</th>\n",
       "      <th>Perceptions of corruption</th>\n",
       "      <th>Continent</th>\n",
       "    </tr>\n",
       "  </thead>\n",
       "  <tbody>\n",
       "    <tr>\n",
       "      <th>0</th>\n",
       "      <td>Afghanistan</td>\n",
       "      <td>3.203</td>\n",
       "      <td>0.350</td>\n",
       "      <td>0.517</td>\n",
       "      <td>0.361</td>\n",
       "      <td>0.000</td>\n",
       "      <td>0.158</td>\n",
       "      <td>0.025</td>\n",
       "      <td>Asia</td>\n",
       "    </tr>\n",
       "    <tr>\n",
       "      <th>1</th>\n",
       "      <td>Albania</td>\n",
       "      <td>4.719</td>\n",
       "      <td>0.947</td>\n",
       "      <td>0.848</td>\n",
       "      <td>0.874</td>\n",
       "      <td>0.383</td>\n",
       "      <td>0.178</td>\n",
       "      <td>0.027</td>\n",
       "      <td>Europe</td>\n",
       "    </tr>\n",
       "    <tr>\n",
       "      <th>2</th>\n",
       "      <td>Algeria</td>\n",
       "      <td>5.211</td>\n",
       "      <td>1.002</td>\n",
       "      <td>1.160</td>\n",
       "      <td>0.785</td>\n",
       "      <td>0.086</td>\n",
       "      <td>0.073</td>\n",
       "      <td>0.114</td>\n",
       "      <td>Africa</td>\n",
       "    </tr>\n",
       "    <tr>\n",
       "      <th>3</th>\n",
       "      <td>Andorra</td>\n",
       "      <td>NaN</td>\n",
       "      <td>NaN</td>\n",
       "      <td>NaN</td>\n",
       "      <td>NaN</td>\n",
       "      <td>NaN</td>\n",
       "      <td>NaN</td>\n",
       "      <td>NaN</td>\n",
       "      <td>Europe</td>\n",
       "    </tr>\n",
       "    <tr>\n",
       "      <th>4</th>\n",
       "      <td>Angola</td>\n",
       "      <td>NaN</td>\n",
       "      <td>NaN</td>\n",
       "      <td>NaN</td>\n",
       "      <td>NaN</td>\n",
       "      <td>NaN</td>\n",
       "      <td>NaN</td>\n",
       "      <td>NaN</td>\n",
       "      <td>Africa</td>\n",
       "    </tr>\n",
       "    <tr>\n",
       "      <th>5</th>\n",
       "      <td>Antigua and Barbuda</td>\n",
       "      <td>NaN</td>\n",
       "      <td>NaN</td>\n",
       "      <td>NaN</td>\n",
       "      <td>NaN</td>\n",
       "      <td>NaN</td>\n",
       "      <td>NaN</td>\n",
       "      <td>NaN</td>\n",
       "      <td>North America</td>\n",
       "    </tr>\n",
       "    <tr>\n",
       "      <th>6</th>\n",
       "      <td>Argentina</td>\n",
       "      <td>6.086</td>\n",
       "      <td>1.092</td>\n",
       "      <td>1.432</td>\n",
       "      <td>0.881</td>\n",
       "      <td>0.471</td>\n",
       "      <td>0.066</td>\n",
       "      <td>0.050</td>\n",
       "      <td>South America</td>\n",
       "    </tr>\n",
       "    <tr>\n",
       "      <th>7</th>\n",
       "      <td>Armenia</td>\n",
       "      <td>4.559</td>\n",
       "      <td>0.850</td>\n",
       "      <td>1.055</td>\n",
       "      <td>0.815</td>\n",
       "      <td>0.283</td>\n",
       "      <td>0.095</td>\n",
       "      <td>0.064</td>\n",
       "      <td>Asia</td>\n",
       "    </tr>\n",
       "    <tr>\n",
       "      <th>8</th>\n",
       "      <td>Australia</td>\n",
       "      <td>7.228</td>\n",
       "      <td>1.372</td>\n",
       "      <td>1.548</td>\n",
       "      <td>1.036</td>\n",
       "      <td>0.557</td>\n",
       "      <td>0.332</td>\n",
       "      <td>0.290</td>\n",
       "      <td>Oceania</td>\n",
       "    </tr>\n",
       "    <tr>\n",
       "      <th>9</th>\n",
       "      <td>Austria</td>\n",
       "      <td>7.246</td>\n",
       "      <td>1.376</td>\n",
       "      <td>1.475</td>\n",
       "      <td>1.016</td>\n",
       "      <td>0.532</td>\n",
       "      <td>0.244</td>\n",
       "      <td>0.226</td>\n",
       "      <td>Europe</td>\n",
       "    </tr>\n",
       "  </tbody>\n",
       "</table>\n",
       "</div>"
      ],
      "text/plain": [
       "               Country Happiness score    GDP Social support  \\\n",
       "0          Afghanistan           3.203  0.350          0.517   \n",
       "1              Albania           4.719  0.947          0.848   \n",
       "2              Algeria           5.211  1.002          1.160   \n",
       "3              Andorra             NaN    NaN            NaN   \n",
       "4               Angola             NaN    NaN            NaN   \n",
       "5  Antigua and Barbuda             NaN    NaN            NaN   \n",
       "6            Argentina           6.086  1.092          1.432   \n",
       "7              Armenia           4.559  0.850          1.055   \n",
       "8            Australia           7.228  1.372          1.548   \n",
       "9              Austria           7.246  1.376          1.475   \n",
       "\n",
       "  Healthy life expectancy Freedom to make life choices Generosity  \\\n",
       "0                   0.361                        0.000      0.158   \n",
       "1                   0.874                        0.383      0.178   \n",
       "2                   0.785                        0.086      0.073   \n",
       "3                     NaN                          NaN        NaN   \n",
       "4                     NaN                          NaN        NaN   \n",
       "5                     NaN                          NaN        NaN   \n",
       "6                   0.881                        0.471      0.066   \n",
       "7                   0.815                        0.283      0.095   \n",
       "8                   1.036                        0.557      0.332   \n",
       "9                   1.016                        0.532      0.244   \n",
       "\n",
       "  Perceptions of corruption      Continent  \n",
       "0                     0.025           Asia  \n",
       "1                     0.027         Europe  \n",
       "2                     0.114         Africa  \n",
       "3                       NaN         Europe  \n",
       "4                       NaN         Africa  \n",
       "5                       NaN  North America  \n",
       "6                     0.050  South America  \n",
       "7                     0.064           Asia  \n",
       "8                     0.290        Oceania  \n",
       "9                     0.226         Europe  "
      ]
     },
     "execution_count": 19,
     "metadata": {},
     "output_type": "execute_result"
    }
   ],
   "source": [
    "merged_df.head(10)"
   ]
  },
  {
   "cell_type": "code",
   "execution_count": 20,
   "metadata": {},
   "outputs": [],
   "source": [
    "merged_df.to_csv(\"merged_output.csv\", index=False, encoding=\"utf-8\")\n",
    "df.to_csv(\"country_continent.csv\", index=False, encoding=\"utf-8\")\n",
    "content_df.to_csv(\"country_statistics.csv\", index=False, encoding=\"utf-8\")"
   ]
  },
  {
   "cell_type": "code",
   "execution_count": 28,
   "metadata": {},
   "outputs": [],
   "source": [
    "content_df[\"Country\"] = content_df[\"Country\"].str.strip()\n",
    "df[\"Country\"] = df[\"Country\"].str.strip()\n",
    "\n",
    "# Perform inner join\n",
    "merged_df = pd.merge(content_df, df, on=\"Country\", how=\"inner\")"
   ]
  },
  {
   "cell_type": "code",
   "execution_count": null,
   "metadata": {},
   "outputs": [
    {
     "name": "stdout",
     "output_type": "stream",
     "text": [
      "<class 'pandas.core.frame.DataFrame'>\n",
      "RangeIndex: 146 entries, 0 to 145\n",
      "Data columns (total 9 columns):\n",
      " #   Column                        Non-Null Count  Dtype \n",
      "---  ------                        --------------  ----- \n",
      " 0   Country                       146 non-null    object\n",
      " 1   Happiness score               146 non-null    object\n",
      " 2   GDP                           146 non-null    object\n",
      " 3   Social support                146 non-null    object\n",
      " 4   Healthy life expectancy       146 non-null    object\n",
      " 5   Freedom to make life choices  146 non-null    object\n",
      " 6   Generosity                    146 non-null    object\n",
      " 7   Perceptions of corruption     146 non-null    object\n",
      " 8   Continent                     146 non-null    object\n",
      "dtypes: object(9)\n",
      "memory usage: 10.4+ KB\n"
     ]
    }
   ],
   "source": [
    "merged_df.info()"
   ]
  },
  {
   "cell_type": "code",
   "execution_count": null,
   "metadata": {},
   "outputs": [],
   "source": []
  }
 ],
 "metadata": {
  "kernelspec": {
   "display_name": "env_first",
   "language": "python",
   "name": "python3"
  },
  "language_info": {
   "codemirror_mode": {
    "name": "ipython",
    "version": 3
   },
   "file_extension": ".py",
   "mimetype": "text/x-python",
   "name": "python",
   "nbconvert_exporter": "python",
   "pygments_lexer": "ipython3",
   "version": "3.9.21"
  }
 },
 "nbformat": 4,
 "nbformat_minor": 2
}
